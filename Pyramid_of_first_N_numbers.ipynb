{
  "nbformat": 4,
  "nbformat_minor": 0,
  "metadata": {
    "colab": {
      "name": "Practice.ipynb",
      "provenance": [],
      "collapsed_sections": [],
      "authorship_tag": "ABX9TyNEzy74WVf/WOxL1dBhgAbu"
    },
    "kernelspec": {
      "name": "python3",
      "display_name": "Python 3"
    },
    "language_info": {
      "name": "python"
    }
  },
  "cells": [
    {
      "cell_type": "markdown",
      "metadata": {
        "id": "4vcRm9ObyFbI"
      },
      "source": [
        "So for this problem, we would use nested loops. Outer loop would control the number of rows, and inner would determine the number of columns in each row. \n",
        "\n",
        "For example, \n",
        "\n",
        "2 is row 1, and has 1 column\n",
        "\n",
        "3 5 is second row, and it has two columns i.e. 3 and 5 "
      ]
    },
    {
      "cell_type": "code",
      "metadata": {
        "colab": {
          "base_uri": "https://localhost:8080/"
        },
        "id": "mYMMeS2jANVQ",
        "outputId": "c51d05f7-b9f5-4a2e-dd94-07f500dfe6fd"
      },
      "source": [
        "#THE CODE WORKS NOW \n",
        "\n",
        "def Prime(n):  \n",
        "    for i in range(2,(n//2)+1):  \n",
        "        if(n%i==0):  \n",
        "            return(0)  \n",
        "    return(1)  \n",
        "  \n",
        "N=int(input(\"Enter N:\"))  \n",
        "i=2 \n",
        "primes=[] #list where we would store numbers \n",
        "while(1):  #infinite loop  \n",
        "    if(Prime(i)):  \n",
        "        primes.append(i) \n",
        "        if(len(primes)==N): #only breaks out of the loop when we have N numbers \n",
        "            break \n",
        "    i+=1 \n",
        "num=0\n",
        "for i in range (0,N):\n",
        "  for j in range(0,i):\n",
        "    if num<N:\n",
        "      print(primes[num],end=\" \")\n",
        "    num+=1\n",
        "  print(\" \")"
      ],
      "execution_count": null,
      "outputs": [
        {
          "output_type": "stream",
          "name": "stdout",
          "text": [
            "Enter N:10\n",
            " \n",
            "2  \n",
            "3 5  \n",
            "7 11 13  \n",
            "17 19 23 29  \n",
            " \n",
            " \n",
            " \n",
            " \n",
            " \n"
          ]
        }
      ]
    }
  ]
}